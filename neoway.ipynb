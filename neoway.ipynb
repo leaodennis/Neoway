{
 "metadata": {
  "language_info": {
   "codemirror_mode": {
    "name": "ipython",
    "version": 3
   },
   "file_extension": ".py",
   "mimetype": "text/x-python",
   "name": "python",
   "nbconvert_exporter": "python",
   "pygments_lexer": "ipython3",
   "version": "3.6.9-final"
  },
  "orig_nbformat": 2,
  "kernelspec": {
   "name": "python3",
   "display_name": "Python 3",
   "language": "python"
  }
 },
 "nbformat": 4,
 "nbformat_minor": 2,
 "cells": [
  {
   "source": [
    "EDA - Part 1"
   ],
   "cell_type": "markdown",
   "metadata": {}
  },
  {
   "cell_type": "code",
   "execution_count": 1,
   "metadata": {},
   "outputs": [
    {
     "output_type": "execute_result",
     "data": {
      "text/plain": [
       "        cd_ramo_atividade  cd_natureza_juridica  fl_optante_simples  \\\n",
       "0                 6319400                  2062                True   \n",
       "1                 9603304                  2135                True   \n",
       "2                 4922101                  2062               False   \n",
       "3                 4614100                  2062                True   \n",
       "4                 7739099                  2135                True   \n",
       "...                   ...                   ...                 ...   \n",
       "231505            4772500                  2062               False   \n",
       "231506            4755502                  2135                True   \n",
       "231507            4729699                  2135                True   \n",
       "231508            6821801                  2135                True   \n",
       "231509            4930203                  2135                True   \n",
       "\n",
       "        fl_matriz dt_abertura           de_natureza_juridica sg_uf  \\\n",
       "0            True  2013-11-11  SOCIEDADE EMPRESARIA LIMITADA    PA   \n",
       "1            True  2001-01-16          EMPRESARIO INDIVIDUAL    MG   \n",
       "2            True  2010-05-05  SOCIEDADE EMPRESARIA LIMITADA    TO   \n",
       "3            True  2011-12-12  SOCIEDADE EMPRESARIA LIMITADA    SP   \n",
       "4            True  2011-07-01          EMPRESARIO INDIVIDUAL    PR   \n",
       "...           ...         ...                            ...   ...   \n",
       "231505       True  2009-10-06  SOCIEDADE EMPRESARIA LIMITADA    RS   \n",
       "231506       True  2011-08-31          EMPRESARIO INDIVIDUAL    SP   \n",
       "231507       True  2013-08-01          EMPRESARIO INDIVIDUAL    RN   \n",
       "231508       True  2016-01-25          EMPRESARIO INDIVIDUAL    RS   \n",
       "231509       True  2013-03-21          EMPRESARIO INDIVIDUAL    RS   \n",
       "\n",
       "       de_situacao dt_situacao  de_motivo_situacao  ...  \\\n",
       "0            ATIVA  2013-11-11                 NaN  ...   \n",
       "1            ATIVA  2005-11-03                 NaN  ...   \n",
       "2            ATIVA  2010-05-05                 NaN  ...   \n",
       "3            ATIVA  2011-12-12                 NaN  ...   \n",
       "4            ATIVA  2011-07-01                 NaN  ...   \n",
       "...            ...         ...                 ...  ...   \n",
       "231505       ATIVA  2009-10-06                 NaN  ...   \n",
       "231506       ATIVA  2011-08-31                 NaN  ...   \n",
       "231507       ATIVA  2013-08-01                 NaN  ...   \n",
       "231508       ATIVA  2016-01-25                 NaN  ...   \n",
       "231509       ATIVA  2013-03-21                 NaN  ...   \n",
       "\n",
       "              nm_micro_regiao vl_total_veiculos vl_total_veiculos_grupo  \\\n",
       "0                      MARABA               NaN                       0   \n",
       "1                     FORMIGA               NaN                       0   \n",
       "2       MIRACEMA DO TOCANTINS               1.0                       1   \n",
       "3                     ITAPEVA               NaN                       0   \n",
       "4                     MARINGA               NaN                       0   \n",
       "...                       ...               ...                     ...   \n",
       "231505        LITORAL LAGUNAR               NaN                       0   \n",
       "231506               SOROCABA               NaN                       0   \n",
       "231507                MOSSORO               NaN                       0   \n",
       "231508           PORTO ALEGRE               NaN                       0   \n",
       "231509           PORTO ALEGRE               NaN                       0   \n",
       "\n",
       "       fl_passivel_iss qt_func_coligadas qt_func_grupo_coligadas  \\\n",
       "0                 True               0.0                     0.0   \n",
       "1                 True               NaN                     NaN   \n",
       "2                 True               0.0                     0.0   \n",
       "3                False               NaN                     NaN   \n",
       "4                 True               NaN                     NaN   \n",
       "...                ...               ...                     ...   \n",
       "231505           False               0.0                     0.0   \n",
       "231506           False               NaN                     NaN   \n",
       "231507           False               NaN                     NaN   \n",
       "231508            True               NaN                     NaN   \n",
       "231509            True               NaN                     NaN   \n",
       "\n",
       "       renda_censitaria_2010 fl_empresa_contato_contador  ind_atividade  \\\n",
       "0                    1683.09                       False              1   \n",
       "1                    3136.54                       False              1   \n",
       "2                     440.99                        True              1   \n",
       "3                     883.74                        True              1   \n",
       "4                     894.17                       False              1   \n",
       "...                      ...                         ...            ...   \n",
       "231505               2435.34                       False              0   \n",
       "231506                799.02                       False              1   \n",
       "231507                933.81                       False              1   \n",
       "231508               2725.63                       False              1   \n",
       "231509                785.90                       False              1   \n",
       "\n",
       "            id  \n",
       "0        10795  \n",
       "1         4396  \n",
       "2       250810  \n",
       "3          675  \n",
       "4       273981  \n",
       "...        ...  \n",
       "231505  105991  \n",
       "231506  112082  \n",
       "231507  243886  \n",
       "231508  286041  \n",
       "231509  178866  \n",
       "\n",
       "[231510 rows x 74 columns]"
      ],
      "text/html": "<div>\n<style scoped>\n    .dataframe tbody tr th:only-of-type {\n        vertical-align: middle;\n    }\n\n    .dataframe tbody tr th {\n        vertical-align: top;\n    }\n\n    .dataframe thead th {\n        text-align: right;\n    }\n</style>\n<table border=\"1\" class=\"dataframe\">\n  <thead>\n    <tr style=\"text-align: right;\">\n      <th></th>\n      <th>cd_ramo_atividade</th>\n      <th>cd_natureza_juridica</th>\n      <th>fl_optante_simples</th>\n      <th>fl_matriz</th>\n      <th>dt_abertura</th>\n      <th>de_natureza_juridica</th>\n      <th>sg_uf</th>\n      <th>de_situacao</th>\n      <th>dt_situacao</th>\n      <th>de_motivo_situacao</th>\n      <th>...</th>\n      <th>nm_micro_regiao</th>\n      <th>vl_total_veiculos</th>\n      <th>vl_total_veiculos_grupo</th>\n      <th>fl_passivel_iss</th>\n      <th>qt_func_coligadas</th>\n      <th>qt_func_grupo_coligadas</th>\n      <th>renda_censitaria_2010</th>\n      <th>fl_empresa_contato_contador</th>\n      <th>ind_atividade</th>\n      <th>id</th>\n    </tr>\n  </thead>\n  <tbody>\n    <tr>\n      <th>0</th>\n      <td>6319400</td>\n      <td>2062</td>\n      <td>True</td>\n      <td>True</td>\n      <td>2013-11-11</td>\n      <td>SOCIEDADE EMPRESARIA LIMITADA</td>\n      <td>PA</td>\n      <td>ATIVA</td>\n      <td>2013-11-11</td>\n      <td>NaN</td>\n      <td>...</td>\n      <td>MARABA</td>\n      <td>NaN</td>\n      <td>0</td>\n      <td>True</td>\n      <td>0.0</td>\n      <td>0.0</td>\n      <td>1683.09</td>\n      <td>False</td>\n      <td>1</td>\n      <td>10795</td>\n    </tr>\n    <tr>\n      <th>1</th>\n      <td>9603304</td>\n      <td>2135</td>\n      <td>True</td>\n      <td>True</td>\n      <td>2001-01-16</td>\n      <td>EMPRESARIO INDIVIDUAL</td>\n      <td>MG</td>\n      <td>ATIVA</td>\n      <td>2005-11-03</td>\n      <td>NaN</td>\n      <td>...</td>\n      <td>FORMIGA</td>\n      <td>NaN</td>\n      <td>0</td>\n      <td>True</td>\n      <td>NaN</td>\n      <td>NaN</td>\n      <td>3136.54</td>\n      <td>False</td>\n      <td>1</td>\n      <td>4396</td>\n    </tr>\n    <tr>\n      <th>2</th>\n      <td>4922101</td>\n      <td>2062</td>\n      <td>False</td>\n      <td>True</td>\n      <td>2010-05-05</td>\n      <td>SOCIEDADE EMPRESARIA LIMITADA</td>\n      <td>TO</td>\n      <td>ATIVA</td>\n      <td>2010-05-05</td>\n      <td>NaN</td>\n      <td>...</td>\n      <td>MIRACEMA DO TOCANTINS</td>\n      <td>1.0</td>\n      <td>1</td>\n      <td>True</td>\n      <td>0.0</td>\n      <td>0.0</td>\n      <td>440.99</td>\n      <td>True</td>\n      <td>1</td>\n      <td>250810</td>\n    </tr>\n    <tr>\n      <th>3</th>\n      <td>4614100</td>\n      <td>2062</td>\n      <td>True</td>\n      <td>True</td>\n      <td>2011-12-12</td>\n      <td>SOCIEDADE EMPRESARIA LIMITADA</td>\n      <td>SP</td>\n      <td>ATIVA</td>\n      <td>2011-12-12</td>\n      <td>NaN</td>\n      <td>...</td>\n      <td>ITAPEVA</td>\n      <td>NaN</td>\n      <td>0</td>\n      <td>False</td>\n      <td>NaN</td>\n      <td>NaN</td>\n      <td>883.74</td>\n      <td>True</td>\n      <td>1</td>\n      <td>675</td>\n    </tr>\n    <tr>\n      <th>4</th>\n      <td>7739099</td>\n      <td>2135</td>\n      <td>True</td>\n      <td>True</td>\n      <td>2011-07-01</td>\n      <td>EMPRESARIO INDIVIDUAL</td>\n      <td>PR</td>\n      <td>ATIVA</td>\n      <td>2011-07-01</td>\n      <td>NaN</td>\n      <td>...</td>\n      <td>MARINGA</td>\n      <td>NaN</td>\n      <td>0</td>\n      <td>True</td>\n      <td>NaN</td>\n      <td>NaN</td>\n      <td>894.17</td>\n      <td>False</td>\n      <td>1</td>\n      <td>273981</td>\n    </tr>\n    <tr>\n      <th>...</th>\n      <td>...</td>\n      <td>...</td>\n      <td>...</td>\n      <td>...</td>\n      <td>...</td>\n      <td>...</td>\n      <td>...</td>\n      <td>...</td>\n      <td>...</td>\n      <td>...</td>\n      <td>...</td>\n      <td>...</td>\n      <td>...</td>\n      <td>...</td>\n      <td>...</td>\n      <td>...</td>\n      <td>...</td>\n      <td>...</td>\n      <td>...</td>\n      <td>...</td>\n      <td>...</td>\n    </tr>\n    <tr>\n      <th>231505</th>\n      <td>4772500</td>\n      <td>2062</td>\n      <td>False</td>\n      <td>True</td>\n      <td>2009-10-06</td>\n      <td>SOCIEDADE EMPRESARIA LIMITADA</td>\n      <td>RS</td>\n      <td>ATIVA</td>\n      <td>2009-10-06</td>\n      <td>NaN</td>\n      <td>...</td>\n      <td>LITORAL LAGUNAR</td>\n      <td>NaN</td>\n      <td>0</td>\n      <td>False</td>\n      <td>0.0</td>\n      <td>0.0</td>\n      <td>2435.34</td>\n      <td>False</td>\n      <td>0</td>\n      <td>105991</td>\n    </tr>\n    <tr>\n      <th>231506</th>\n      <td>4755502</td>\n      <td>2135</td>\n      <td>True</td>\n      <td>True</td>\n      <td>2011-08-31</td>\n      <td>EMPRESARIO INDIVIDUAL</td>\n      <td>SP</td>\n      <td>ATIVA</td>\n      <td>2011-08-31</td>\n      <td>NaN</td>\n      <td>...</td>\n      <td>SOROCABA</td>\n      <td>NaN</td>\n      <td>0</td>\n      <td>False</td>\n      <td>NaN</td>\n      <td>NaN</td>\n      <td>799.02</td>\n      <td>False</td>\n      <td>1</td>\n      <td>112082</td>\n    </tr>\n    <tr>\n      <th>231507</th>\n      <td>4729699</td>\n      <td>2135</td>\n      <td>True</td>\n      <td>True</td>\n      <td>2013-08-01</td>\n      <td>EMPRESARIO INDIVIDUAL</td>\n      <td>RN</td>\n      <td>ATIVA</td>\n      <td>2013-08-01</td>\n      <td>NaN</td>\n      <td>...</td>\n      <td>MOSSORO</td>\n      <td>NaN</td>\n      <td>0</td>\n      <td>False</td>\n      <td>NaN</td>\n      <td>NaN</td>\n      <td>933.81</td>\n      <td>False</td>\n      <td>1</td>\n      <td>243886</td>\n    </tr>\n    <tr>\n      <th>231508</th>\n      <td>6821801</td>\n      <td>2135</td>\n      <td>True</td>\n      <td>True</td>\n      <td>2016-01-25</td>\n      <td>EMPRESARIO INDIVIDUAL</td>\n      <td>RS</td>\n      <td>ATIVA</td>\n      <td>2016-01-25</td>\n      <td>NaN</td>\n      <td>...</td>\n      <td>PORTO ALEGRE</td>\n      <td>NaN</td>\n      <td>0</td>\n      <td>True</td>\n      <td>NaN</td>\n      <td>NaN</td>\n      <td>2725.63</td>\n      <td>False</td>\n      <td>1</td>\n      <td>286041</td>\n    </tr>\n    <tr>\n      <th>231509</th>\n      <td>4930203</td>\n      <td>2135</td>\n      <td>True</td>\n      <td>True</td>\n      <td>2013-03-21</td>\n      <td>EMPRESARIO INDIVIDUAL</td>\n      <td>RS</td>\n      <td>ATIVA</td>\n      <td>2013-03-21</td>\n      <td>NaN</td>\n      <td>...</td>\n      <td>PORTO ALEGRE</td>\n      <td>NaN</td>\n      <td>0</td>\n      <td>True</td>\n      <td>NaN</td>\n      <td>NaN</td>\n      <td>785.90</td>\n      <td>False</td>\n      <td>1</td>\n      <td>178866</td>\n    </tr>\n  </tbody>\n</table>\n<p>231510 rows × 74 columns</p>\n</div>"
     },
     "metadata": {},
     "execution_count": 1
    }
   ],
   "source": [
    "import sweetviz as sv\n",
    "import pandas as pd\n",
    "import xgboost as xgb\n",
    "\n",
    "train = pd.read_csv('/home/dennis/MadeiraMadeira/Neoway/data/pds_train.csv', sep=\";\")\n",
    "train"
   ]
  },
  {
   "cell_type": "code",
   "execution_count": 6,
   "metadata": {},
   "outputs": [
    {
     "output_type": "stream",
     "name": "stderr",
     "text": [
      "Done! Use 'show' commands to display/save.   |██████████| [100%]   00:07 -> (00:00 left)\n",
      "Report SWEETVIZ_REPORT.html was generated! NOTEBOOK/COLAB USERS: the web browser MAY not pop up, regardless, the report IS saved in your notebook/colab files.\n"
     ]
    }
   ],
   "source": [
    "report=sv.analyze(train)\n",
    "report.show_html()"
   ]
  }
 ]
}